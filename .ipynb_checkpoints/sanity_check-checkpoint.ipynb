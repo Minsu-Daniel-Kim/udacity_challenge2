{
 "cells": [
  {
   "cell_type": "code",
   "execution_count": 27,
   "metadata": {
    "collapsed": false
   },
   "outputs": [
    {
     "name": "stdout",
     "output_type": "stream",
     "text": [
      "The autoreload extension is already loaded. To reload it, use:\n",
      "  %reload_ext autoreload\n"
     ]
    }
   ],
   "source": [
    "%load_ext autoreload\n",
    "%autoreload 2\n",
    "from pipeline import utils\n",
    "from model import drivenet"
   ]
  },
  {
   "cell_type": "code",
   "execution_count": 38,
   "metadata": {
    "collapsed": true
   },
   "outputs": [],
   "source": [
    "model_dict = {\n",
    "\n",
    "    'driveNet': drivenet.DriveNet\n",
    "\n",
    "}"
   ]
  },
  {
   "cell_type": "code",
   "execution_count": null,
   "metadata": {
    "collapsed": true
   },
   "outputs": [],
   "source": [
    "model_dict"
   ]
  },
  {
   "cell_type": "code",
   "execution_count": 25,
   "metadata": {
    "collapsed": false
   },
   "outputs": [
    {
     "name": "stdout",
     "output_type": "stream",
     "text": [
      "{'MODEL_TITLE': 'driveNet', 'CHANNEL': 3, 'HEIGHT': 66, 'BATCH_SIZE': 100, 'NUM_ITER': 100000, 'WIDTH': 200, 'MODEL_FILE': 'drivenet'}\n"
     ]
    }
   ],
   "source": [
    "models = utils.from_recipe()"
   ]
  },
  {
   "cell_type": "code",
   "execution_count": 37,
   "metadata": {
    "collapsed": false
   },
   "outputs": [
    {
     "name": "stdout",
     "output_type": "stream",
     "text": [
      "--config--\n",
      "model: driveNet\n",
      "height: 66\n",
      "width: 200\n",
      "channel: 3\n",
      "num_iter: 100000\n",
      "--config--\n",
      "drivenet.py\n"
     ]
    }
   ],
   "source": [
    "for model in models:\n",
    "    print(\"--config--\")\n",
    "    print(\"model: %s\" %  model['MODEL_TITLE'])\n",
    "    print(\"height: %d\" % model['HEIGHT'])\n",
    "    print(\"width: %d\" % model['WIDTH'])\n",
    "    print(\"channel: %d\" % model['CHANNEL'])\n",
    "    print(\"num_iter: %d\" % model['NUM_ITER'])\n",
    "    print(\"--config--\")\n",
    "    if model['MODEL_TITLE'] == 'driveNet':\n",
    "        print('drivenet.py')\n",
    "        dnn = drivenet.DriveNet(width=model[\"WIDTH\"], height=model[\"HEIGHT\"], channel=model[\"CHANNEL\"])\n",
    "        dnn.inference()\n"
   ]
  },
  {
   "cell_type": "code",
   "execution_count": null,
   "metadata": {
    "collapsed": true
   },
   "outputs": [],
   "source": []
  }
 ],
 "metadata": {
  "anaconda-cloud": {},
  "kernelspec": {
   "display_name": "Python [conda env:tensorflow]",
   "language": "python",
   "name": "conda-env-tensorflow-py"
  },
  "language_info": {
   "codemirror_mode": {
    "name": "ipython",
    "version": 3
   },
   "file_extension": ".py",
   "mimetype": "text/x-python",
   "name": "python",
   "nbconvert_exporter": "python",
   "pygments_lexer": "ipython3",
   "version": "3.5.2"
  }
 },
 "nbformat": 4,
 "nbformat_minor": 1
}
